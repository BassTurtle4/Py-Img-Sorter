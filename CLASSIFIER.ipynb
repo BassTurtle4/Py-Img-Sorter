{
 "cells": [
  {
   "cell_type": "code",
   "execution_count": 2,
   "id": "048d822b-a7a1-4901-908d-36f4d71e9aeb",
   "metadata": {},
   "outputs": [],
   "source": [
    "## For Development only\n",
    "# !pip install ollama \n",
    "# !pip list > PipList.txt"
   ]
  },
  {
   "cell_type": "code",
   "execution_count": 9,
   "id": "fa1d6706-d70c-436d-a307-d86ee2973df6",
   "metadata": {},
   "outputs": [
    {
     "name": "stdout",
     "output_type": "stream",
     "text": [
      "[Animal, Turtle]\n"
     ]
    }
   ],
   "source": [
    "import ollama\n",
    "\n",
    "response = ollama.chat(\n",
    "    model='llama3.2-vision',\n",
    "    messages=[{\n",
    "        'role': 'user',\n",
    "        'content': \"\"\"\n",
    "                    Return a list formatted as [Tag1, Tag2, Tag3.....]\n",
    "                    Choose aspects of this image from this list of items.\n",
    "                    Return only the list of aspects in format for python.\n",
    "\n",
    "                    [Dog, Cat, Animal, Car, Bread, Water, Rocks, Sky, Turtle]\n",
    "                   \"\"\",\n",
    "        'images': ['turtle.jpg']\n",
    "    }]\n",
    ")\n",
    "\n",
    "# print(response)\n",
    "print(response['message']['content'])"
   ]
  },
  {
   "cell_type": "code",
   "execution_count": null,
   "id": "63275bd0-6a21-49be-addc-c86bcca21c69",
   "metadata": {},
   "outputs": [],
   "source": []
  }
 ],
 "metadata": {
  "kernelspec": {
   "display_name": "Python 3 (ipykernel)",
   "language": "python",
   "name": "python3"
  },
  "language_info": {
   "codemirror_mode": {
    "name": "ipython",
    "version": 3
   },
   "file_extension": ".py",
   "mimetype": "text/x-python",
   "name": "python",
   "nbconvert_exporter": "python",
   "pygments_lexer": "ipython3",
   "version": "3.10.12"
  }
 },
 "nbformat": 4,
 "nbformat_minor": 5
}
